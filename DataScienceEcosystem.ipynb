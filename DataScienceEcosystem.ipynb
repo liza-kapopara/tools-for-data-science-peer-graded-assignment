{
 "cells": [
  {
   "cell_type": "markdown",
   "id": "68c4da9b-677d-46a1-8e8a-91ecccff7b06",
   "metadata": {},
   "source": [
    "# Data Science Tools and Ecosystem\r\n"
   ]
  },
  {
   "cell_type": "markdown",
   "id": "31d80692-c40d-4c06-b506-6563bc3f3605",
   "metadata": {},
   "source": [
    "## Introduction \n",
    "\n",
    "In this notebook, Data Science Tools and Ecosystem are summarized."
   ]
  },
  {
   "cell_type": "markdown",
   "id": "8f856533-f6cd-44ad-a9fd-bf89a60c263c",
   "metadata": {},
   "source": [
    "## Data Science Languages\r\n",
    "\r\n",
    "Some of the popular languages that Data Scientists use are:\r\n",
    "\r\n",
    "1. Python\r\n",
    "2. R\r\n",
    "3. SQL\r\n"
   ]
  },
  {
   "cell_type": "markdown",
   "id": "90357ad8-2bfb-4a12-9ec5-9e01c16f9ae2",
   "metadata": {},
   "source": [
    "## Data Science Languages\r\n",
    "\r\n",
    "Some of the popular languages that Data Scientists use are:\r\n",
    "\r\n",
    "1. Python\r\n",
    "2. R\r\n",
    "3. SQL\r\n",
    "4. Julia\r\n",
    "5. Scala\r\n"
   ]
  },
  {
   "cell_type": "markdown",
   "id": "5f2c5037-5dd8-4d15-81a1-00a55ca98a1f",
   "metadata": {},
   "source": [
    "## Data Science Libraries\r\n",
    "\r\n",
    "Some of the commonly used libraries by Data Scientists include:\r\n",
    "\r\n",
    "1. Pandas\r\n",
    "2. NumPy\r\n",
    "3. Matplotlib\r\n"
   ]
  },
  {
   "cell_type": "markdown",
   "id": "558e42f5-1204-4668-9160-9761b27cabc3",
   "metadata": {},
   "source": [
    "## Data Science Libraries\r\n",
    "\r\n",
    "Some of the commonly used libraries by Data Scientists include:\r\n",
    "\r\n",
    "1. Pandas\r\n",
    "2. NumPy\r\n",
    "3. Matplotlib\r\n",
    "4. Scikit-learn\r\n",
    "5. TensorFlow\r\n"
   ]
  },
  {
   "cell_type": "markdown",
   "id": "4c71eb43-1474-4541-8342-6ade437e4eec",
   "metadata": {},
   "source": [
    "## Data Science Tools\r\n",
    "\r\n",
    "| Data Science Tools |\r\n",
    "|--------------------|\r\n",
    "| Jupyter Notebook   |\r\n",
    "| RStudio            |\r\n",
    "| Visual Studio Code |\r\n"
   ]
  },
  {
   "cell_type": "markdown",
   "id": "267149db-4fc4-45f3-a636-79848fe5e57c",
   "metadata": {},
   "source": [
    "### Examples of Evaluating Arithmetic Expressions in Python\r\n",
    "\r\n",
    "In this section, we'll explore a few examples of evaluating arithmetic expressions in Python.\r\n"
   ]
  },
  {
   "cell_type": "code",
   "execution_count": 4,
   "id": "0f2273a6-57dc-4e61-84db-403fd22ae12a",
   "metadata": {},
   "outputs": [
    {
     "data": {
      "text/plain": [
       "17"
      ]
     },
     "execution_count": 4,
     "metadata": {},
     "output_type": "execute_result"
    }
   ],
   "source": [
    "# This is a simple arithmetic expression to multiply then add integers.\n",
    "result = (3 * 4) + 5\n",
    "result\n"
   ]
  },
  {
   "cell_type": "code",
   "execution_count": 5,
   "id": "aa6ef6da-d97a-48cd-97bf-7fe42b56de88",
   "metadata": {},
   "outputs": [
    {
     "data": {
      "text/plain": [
       "3.3333333333333335"
      ]
     },
     "execution_count": 5,
     "metadata": {},
     "output_type": "execute_result"
    }
   ],
   "source": [
    "# This will convert 200 minutes to hours by dividing by 60.\n",
    "minutes = 200\n",
    "hours = minutes / 60\n",
    "hours\n"
   ]
  },
  {
   "cell_type": "markdown",
   "id": "053055a2-20f0-4d78-a147-1930aa049345",
   "metadata": {},
   "source": [
    "**Objectives:**\r\n",
    "\r\n",
    "- List popular languages for Data Science.\r\n",
    "- Introduce commonly used data science libraries.\r\n",
    "- Discuss development environment tools for data science.\r\n",
    "- Provide examples of evaluating arithmetic expressions in Python.\r\n",
    "- Demonstrate converting minutes to hours in Python.\r\n"
   ]
  },
  {
   "cell_type": "markdown",
   "id": "9d97c25e-804a-43b7-bca0-c3b6e9810950",
   "metadata": {},
   "source": [
    "## Author\r\n",
    "Liza Kapoparaoe\r\n"
   ]
  },
  {
   "cell_type": "code",
   "execution_count": null,
   "id": "718b3c73-aadf-4797-b2ad-bd39c8eecfc7",
   "metadata": {},
   "outputs": [],
   "source": []
  }
 ],
 "metadata": {
  "kernelspec": {
   "display_name": "Python 3 (ipykernel)",
   "language": "python",
   "name": "python3"
  },
  "language_info": {
   "codemirror_mode": {
    "name": "ipython",
    "version": 3
   },
   "file_extension": ".py",
   "mimetype": "text/x-python",
   "name": "python",
   "nbconvert_exporter": "python",
   "pygments_lexer": "ipython3",
   "version": "3.11.7"
  }
 },
 "nbformat": 4,
 "nbformat_minor": 5
}
